{
 "metadata": {
  "language_info": {
   "codemirror_mode": {
    "name": "ipython",
    "version": 3
   },
   "file_extension": ".py",
   "mimetype": "text/x-python",
   "name": "python",
   "nbconvert_exporter": "python",
   "pygments_lexer": "ipython3",
   "version": "3.9.5"
  },
  "orig_nbformat": 2,
  "kernelspec": {
   "name": "python395jvsc74a57bd063fd5069d213b44bf678585dea6b12cceca9941eaf7f819626cde1f2670de90d",
   "display_name": "Python 3.9.5 64-bit"
  }
 },
 "nbformat": 4,
 "nbformat_minor": 2,
 "cells": [
  {
   "cell_type": "code",
   "execution_count": 65,
   "metadata": {},
   "outputs": [],
   "source": [
    "import sys\n",
    "import random\n",
    "\n",
    "class CAList:\n",
    "    L = []\n",
    "    P = []\n",
    "    S = []\n",
    "    mthL = ['IO', 'MTF', 'CM', 'EM']\n",
    "    mth = '' # IO, MTF, CM, EM\n",
    "    nAccesses = 0\n",
    "    searchCount = 0\n",
    "    C = []\n",
    "\n",
    "    def error(self, text):\n",
    "        print('ERROR: ' + str(txt))\n",
    "        sys.exit()\n",
    "\n",
    "    def __init__(self, mth='IO', numberElements=0, percTotalAccess=2.0, debug=False):\n",
    "        self.L = []\n",
    "        self.setMethod(mth)\n",
    "        if numberElements > 0:\n",
    "            self.inject(numberElements, debug)\n",
    "        self.show()\n",
    "        self.genSearch(percTotalAccess, debug=debug)\n",
    "    \n",
    "    def setMethod(self, mth):\n",
    "        self.C = []\n",
    "        self.nAccesses = 0\n",
    "        self.searchCount = 0\n",
    "        mth = mth.upper()\n",
    "        for i in self.L:\n",
    "            self.C.append(0)\n",
    "        if mth not in self.mthL:\n",
    "            self.error(f'Unknown method. Select one from the list: {self.mthL}')\n",
    "        self.mth = mth\n",
    "\n",
    "    def show(self):\n",
    "        print(f\"{self.mth}({self.searchCount}) -\",self.L)\n",
    "        # if self.mth == 'CM':\n",
    "        #     print(\"Count:\",self.nAccesses)\n",
    "        print(f\"Cummulative access cost: {self.nAccesses}\")\n",
    "\n",
    "    def insert(self, value):\n",
    "        if self.mth == 'IO' or self.mth == 'EM':\n",
    "            self.L.append(value)\n",
    "        if self.mth == 'MTF':\n",
    "            self.L.insert(0, value)\n",
    "        if self.mth == 'CM':\n",
    "            self.L.append(value)\n",
    "            self.C.append(0)\n",
    "\n",
    "\n",
    "    def search(self, value):\n",
    "        self.searchCount += 1\n",
    "        if value not in self.L:\n",
    "            return False\n",
    "        if self.mth == 'IO':\n",
    "            for x in self.L:\n",
    "                self.nAccesses += 1\n",
    "                if x == value:\n",
    "                    return True\n",
    "        if self.mth == 'MTF':\n",
    "            for idx, x in enumerate(self.L):\n",
    "                self.nAccesses += 1\n",
    "                if x == value:\n",
    "                    self.L = self.L[:idx] + self.L[idx+1:]\n",
    "                    self.L.insert(0, value)\n",
    "                return True\n",
    "        if self.mth == 'CM':\n",
    "            for idx, x in enumerate(self.L):\n",
    "                self.nAccesses += 1\n",
    "                if x == value:\n",
    "                    self.C[idx] += 1\n",
    "                    i = idx\n",
    "                    while i > 0:\n",
    "                        if self.C[i] > self.C[i-1]:\n",
    "                            self.L[i], self.L[i-1] = self.L[i-1], self.L[i]\n",
    "                            self.C[i], self.C[i-1] = self.C[i-1], self.C[i]\n",
    "                        i -= 1\n",
    "                    return True\n",
    "        if self.mth == 'EM':\n",
    "            for idx, x in enumerate(self.L):\n",
    "                self.nAccesses += 1\n",
    "                if x == value:\n",
    "                    if idx != 0:\n",
    "                        self.L[idx], self.L[idx-1] = self.L[idx-1], self.L[idx]\n",
    "                return True\n",
    "\n",
    "    def inject(self, numberElements, debug=False):\n",
    "        for i in range(numberElements):\n",
    "            if debug: \n",
    "                random.seed(i)\n",
    "            value = random.randint(0, 100)\n",
    "            while value in self.L:\n",
    "                value = random.randint(0, 100)\n",
    "            self.insert(value)\n",
    "\n",
    "    def genSearch(self, percTotalAccess, debug=False):\n",
    "        self.S = []\n",
    "        sz = len(self.L)\n",
    "        totalAccess = percTotalAccess * sz\n",
    "        while(totalAccess > 0.0):\n",
    "            if debug:\n",
    "                random.seed(totalAccess)\n",
    "            self.S.append(self.L[random.randint(0, sz-1)])\n",
    "            totalAccess -= 1\n",
    "        print('Generated sequence:', self.S)\n",
    "\n",
    "    def searchSeq(self):\n",
    "        for value in self.S:\n",
    "            self.search(value)\n",
    "        self.show()\n"
   ]
  },
  {
   "cell_type": "code",
   "execution_count": 70,
   "metadata": {},
   "outputs": [
    {
     "output_type": "stream",
     "name": "stdout",
     "text": [
      "IO(0) - [99, 50, 100, 34, 22, 98, 9, 77, 1, 44, 33, 90, 52, 87, 69, 38, 19, 59, 62, 21, 65, 5, 12, 95, 75, 54, 8, 45, 84, 56, 2, 64, 20, 88, 11, 51, 81, 35, 26, 67, 30, 42, 89, 66, 47, 71, 94, 6, 83, 91, 78, 29, 61, 28, 31, 3, 79, 40, 55, 97, 24, 80, 93, 74, 18, 58, 17, 46, 39, 96, 14, 13, 41, 63, 23, 7, 76, 27, 4, 92, 43, 15, 57, 48, 36, 70, 49, 10, 0, 25, 82, 85, 72, 32, 16, 68, 60, 86, 37, 73]\nCummulative access cost: 0\nGenerated sequence: [1, 98, 26, 48, 39, 30, 28, 26, 30, 71, 11, 42, 68, 68, 17, 18, 50, 46, 38, 21, 30, 32, 42, 42, 63, 1, 40, 51, 80, 55, 94, 16, 83, 33, 23, 77, 59, 9, 46, 93, 63, 20, 64, 25, 63, 68, 66, 94, 57, 6, 29, 67, 97, 76, 66, 39, 18, 5, 34, 62, 20, 10, 84, 41, 59, 69, 95, 37, 61, 32, 92, 9, 52, 96, 10, 11, 85, 87, 8, 88, 1, 43, 63, 46, 57, 33, 44, 45, 57, 12, 58, 3, 100, 7, 6, 93, 82, 81, 84, 54, 76, 74, 2, 31, 40, 49, 94, 96, 75, 80, 72, 44, 20, 61, 54, 50, 68, 39, 37, 83, 58, 93, 44, 29, 4, 58, 23, 23, 31, 98, 71, 55, 99, 75, 26, 25, 0, 57, 99, 96, 38, 26, 58, 68, 30, 73, 96, 57, 63, 14, 81, 46, 61, 96, 17, 61, 27, 43, 23, 67, 40, 26, 19, 18, 79, 7, 59, 14, 37, 65, 20, 15, 50, 31, 16, 36, 41, 22, 6, 28, 29, 81, 36, 60, 70, 100, 90, 90, 99, 91, 11, 97, 11, 6, 15, 68, 80, 37, 66, 91]\n"
     ]
    }
   ],
   "source": [
    "io_L = CAList('IO', numberElements=100, debug=False)"
   ]
  },
  {
   "cell_type": "code",
   "execution_count": 71,
   "metadata": {},
   "outputs": [
    {
     "output_type": "stream",
     "name": "stdout",
     "text": [
      "-- IO\nIO(200) - [99, 50, 100, 34, 22, 98, 9, 77, 1, 44, 33, 90, 52, 87, 69, 38, 19, 59, 62, 21, 65, 5, 12, 95, 75, 54, 8, 45, 84, 56, 2, 64, 20, 88, 11, 51, 81, 35, 26, 67, 30, 42, 89, 66, 47, 71, 94, 6, 83, 91, 78, 29, 61, 28, 31, 3, 79, 40, 55, 97, 24, 80, 93, 74, 18, 58, 17, 46, 39, 96, 14, 13, 41, 63, 23, 7, 76, 27, 4, 92, 43, 15, 57, 48, 36, 70, 49, 10, 0, 25, 82, 85, 72, 32, 16, 68, 60, 86, 37, 73]\nCummulative access cost: 10450\n-- MTF\nMTF(200) - [99, 50, 100, 34, 22, 98, 9, 77, 1, 44, 33, 90, 52, 87, 69, 38, 19, 59, 62, 21, 65, 5, 12, 95, 75, 54, 8, 45, 84, 56, 2, 64, 20, 88, 11, 51, 81, 35, 26, 67, 30, 42, 89, 66, 47, 71, 94, 6, 83, 91, 78, 29, 61, 28, 31, 3, 79, 40, 55, 97, 24, 80, 93, 74, 18, 58, 17, 46, 39, 96, 14, 13, 41, 63, 23, 7, 76, 27, 4, 92, 43, 15, 57, 48, 36, 70, 49, 10, 0, 25, 82, 85, 72, 32, 16, 68, 60, 86, 37, 73]\nCummulative access cost: 200\n-- CM\nCM(200) - [68, 57, 63, 96, 26, 58, 30, 46, 61, 23, 20, 11, 6, 37, 42, 1, 94, 39, 93, 44, 40, 18, 59, 50, 31, 29, 81, 99, 80, 66, 32, 9, 10, 33, 84, 76, 54, 83, 98, 71, 55, 75, 25, 38, 17, 43, 67, 7, 14, 16, 41, 28, 36, 100, 90, 97, 15, 91, 48, 21, 51, 77, 64, 5, 34, 62, 69, 95, 92, 52, 85, 87, 8, 88, 45, 12, 3, 82, 74, 2, 49, 72, 4, 0, 73, 27, 19, 79, 65, 22, 60, 70, 56, 35, 89, 47, 78, 24, 13, 86]\nCummulative access cost: 10161\n-- EM\nEM(200) - [68, 57, 63, 96, 26, 58, 30, 46, 61, 23, 20, 11, 6, 37, 42, 1, 94, 39, 93, 44, 40, 18, 59, 50, 31, 29, 81, 99, 80, 66, 32, 9, 10, 33, 84, 76, 54, 83, 98, 71, 55, 75, 25, 38, 17, 43, 67, 7, 14, 16, 41, 28, 36, 100, 90, 97, 15, 91, 48, 21, 51, 77, 64, 5, 34, 62, 69, 95, 92, 52, 85, 87, 8, 88, 45, 12, 3, 82, 74, 2, 49, 72, 4, 0, 73, 27, 19, 79, 65, 22, 60, 70, 56, 35, 89, 47, 78, 24, 13, 86]\nCummulative access cost: 200\n"
     ]
    }
   ],
   "source": [
    "for mth in io_L.mthL:\n",
    "    print('--', mth)\n",
    "    io_L.setMethod(mth)\n",
    "    io_L.searchSeq()"
   ]
  },
  {
   "cell_type": "code",
   "execution_count": null,
   "metadata": {},
   "outputs": [],
   "source": []
  }
 ]
}