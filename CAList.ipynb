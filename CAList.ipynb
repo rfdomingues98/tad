{
 "metadata": {
  "language_info": {
   "codemirror_mode": {
    "name": "ipython",
    "version": 3
   },
   "file_extension": ".py",
   "mimetype": "text/x-python",
   "name": "python",
   "nbconvert_exporter": "python",
   "pygments_lexer": "ipython3",
   "version": "3.9.5"
  },
  "orig_nbformat": 2,
  "kernelspec": {
   "name": "python395jvsc74a57bd063fd5069d213b44bf678585dea6b12cceca9941eaf7f819626cde1f2670de90d",
   "display_name": "Python 3.9.5 64-bit"
  },
  "metadata": {
   "interpreter": {
    "hash": "31f2aee4e71d21fbe5cf8b01ff0e069b9275f58929596ceb00d14d90e3e16cd6"
   }
  }
 },
 "nbformat": 4,
 "nbformat_minor": 2,
 "cells": [
  {
   "cell_type": "code",
   "execution_count": 19,
   "metadata": {},
   "outputs": [],
   "source": [
    "import sys, random, copy\n",
    "\n",
    "class CAList:\n",
    "    C = []\n",
    "    L = []\n",
    "    S = []\n",
    "    mthL = ['IO', 'MTF', 'CM', 'EM', 'OL']\n",
    "    mth = ''  ## IO, MTF, CM, EM\n",
    "    nAccesses = 0\n",
    "    searchCount = 0\n",
    "    duplicateIgnore = True\n",
    "    debug = False\n",
    " \n",
    "    def error(self, txt):\n",
    "        print('ERROR: '+str(txt))\n",
    "        sys.exit()\n",
    "\n",
    "    def __init__(self, mth='IO', randomElements=0, copyList=None, duplicateIgnore=True, perctotalAccess=2.0, debug=False):\n",
    "        self.debug = debug\n",
    "        if (copyList==None):\n",
    "            self.L = []\n",
    "        else:\n",
    "            self.L = copy.deepcopy(copyList)\n",
    "        self.setMethod(mth)\n",
    "        self.duplicateIgnore = duplicateIgnore\n",
    "        if (randomElements>0):\n",
    "            self.inject(randomElements)\n",
    "        if debug:\n",
    "            self.show()\n",
    "        self.genSearch(perctotalAccess)\n",
    "\n",
    "    def setMethod(self, mth):\n",
    "        self.nAccesses = 0\n",
    "        self.searchCount = 0\n",
    "        self.C = []\n",
    "        for i in self.L:\n",
    "            self.C.append(0)\n",
    "        if (mth not in self.mthL):\n",
    "            self.error('method is not one the known methods in '+str(self.mthL))\n",
    "        self.mth = mth\n",
    "\n",
    "    def insert(self, value):\n",
    "        if (not self.duplicateIgnore or value not in self.L):\n",
    "            if self.mth not in ['OL']:\n",
    "                self.L.append(value)\n",
    "                self.C.append(0)\n",
    "            else:\n",
    "                if len(self.L) != 0:\n",
    "                    for i in range(len(self.L)):\n",
    "                        if self.L[i] > value:\n",
    "                            self.L.insert(i, value)\n",
    "                            return\n",
    "                self.L.append(value)\n",
    "                    \n",
    "    def transpose(self, ii):\n",
    "        if (ii>0):\n",
    "            T = self.L[ii]\n",
    "            self.L[ii] = self.L[ii-1]\n",
    "            self.L[ii-1] = T \n",
    "            T = self.C[ii]\n",
    "            self.C[ii] = self.C[ii-1]\n",
    "            self.C[ii-1] = T          \n",
    "\n",
    "    def search(self, value):\n",
    "        self.searchCount += 1\n",
    "        if (value not in self.L):\n",
    "            self.error('value '+str(value)+' is not in the list')\n",
    "        ii = self.L.index(value)\n",
    "        nn = 0\n",
    "        for x in self.L:\n",
    "            nn += 1\n",
    "            if (x==value):\n",
    "                break\n",
    "        if (self.mth=='MTF'):\n",
    "            del self.L[ii]\n",
    "            self.L = [value]+self.L\n",
    "        if (self.mth=='EM'):\n",
    "            self.transpose(ii) \n",
    "        if (self.mth=='CM'):\n",
    "            self.C[ii] += 1\n",
    "            for k in range(ii):\n",
    "                if (self.C[ii-k-1]<self.C[ii-k]):\n",
    "                    self.transpose(ii-k)\n",
    "        self.nAccesses += nn\n",
    "        return(nn)\n",
    "\n",
    "    def inject(self, numberElements):\n",
    "        for i in range(numberElements):\n",
    "            self.insert(int(100*random.random()))\n",
    "    \n",
    "    def show(self):\n",
    "        print(self.mth+'('+str(self.searchCount)+') -',self.L)\n",
    "        if (self.mth=='CM'):\n",
    "            print('Access counts:',self.C)\n",
    "        print('Cummulative access cost:',self.nAccesses)\n",
    "\n",
    "    def genSearch(self, perctotalAccess):\n",
    "        self.S = []\n",
    "        sz = len(self.L)\n",
    "        totalAccess = perctotalAccess * sz\n",
    "        while (totalAccess>0.0):\n",
    "            self.S.append(self.L[random.randint(0,sz-1)])\n",
    "            totalAccess -= 1\n",
    "        print('Generated sequence',self.S)\n",
    "        \n",
    "    def searchSeq(self):\n",
    "        for value in self.S:\n",
    "            self.search(value)\n",
    "        if debug:\n",
    "            self.show()\n",
    "\n",
    "class SkipList:\n",
    "    SL = []\n",
    "\n",
    "    def __init__(self, mth='OL', randomElements=0, copyList=None, duplicateIgnore=True, perctotalAccess=2.0):\n",
    "        ioL = CAList(mth=mth, randomElements=randomElements, perctotalAccess=perctotalAccess)\n",
    "        self.SL = [ioL]\n",
    "        LL = ioL.L\n",
    "        while len(LL) > 0:\n",
    "            NN = []\n",
    "            for value in LL:\n",
    "                if random.random() < 0.5:\n",
    "                    NN.append(value)\n",
    "            if len(LL) > 0:\n",
    "                self.SL.append(CAList(mth=mth, copyList=NN))\n",
    "            LL = NN\n",
    "        level = 0\n",
    "        for CAL in self.SL:\n",
    "            print('-- level', level)\n",
    "            level += 1\n",
    "            print(CAL.L)\n"
   ]
  },
  {
   "cell_type": "code",
   "execution_count": 20,
   "metadata": {
    "tags": []
   },
   "outputs": [
    {
     "output_type": "stream",
     "name": "stdout",
     "text": [
      "Generated sequence [74, 86, 49, 93, 49, 80, 10, 90, 49, 86, 90, 50, 90, 10, 50, 24, 74, 49, 93, 86]\nGenerated sequence [93, 93, 94, 94, 86, 86, 86, 86]\nGenerated sequence [49, 49]\nGenerated sequence []\n-- level 0\n[10, 24, 49, 50, 74, 80, 86, 90, 93, 94]\n-- level 1\n[49, 86, 93, 94]\n-- level 2\n[49]\n-- level 3\n[]\n"
     ]
    }
   ],
   "source": [
    "skipL = SkipList(randomElements=10)"
   ]
  },
  {
   "cell_type": "code",
   "execution_count": 19,
   "metadata": {},
   "outputs": [
    {
     "output_type": "stream",
     "name": "stdout",
     "text": [
      "OL(0) - [56, 65]\nCummulative access cost: 0\nGenerated sequence [65, 65, 65, 65]\n"
     ]
    }
   ],
   "source": [
    "ioL = CAList(mth='OL',randomElements=2)"
   ]
  },
  {
   "cell_type": "code",
   "execution_count": 20,
   "metadata": {},
   "outputs": [
    {
     "output_type": "stream",
     "name": "stdout",
     "text": [
      "-- IO\nIO(4) - [56, 65]\nCummulative access cost: 8\n-- MTF\nMTF(4) - [65, 56]\nCummulative access cost: 5\n-- CM\nCM(4) - [65, 56]\nAccess counts: [4, 0]\nCummulative access cost: 4\n-- EM\nEM(4) - [65, 56]\nCummulative access cost: 4\n-- OL\nOL(4) - [65, 56]\nCummulative access cost: 4\n"
     ]
    }
   ],
   "source": [
    "for mth in ioL.mthL:\n",
    "    print('--',mth)\n",
    "    ioL.setMethod(mth)\n",
    "    ioL.searchSeq()"
   ]
  },
  {
   "cell_type": "code",
   "execution_count": null,
   "metadata": {},
   "outputs": [],
   "source": []
  }
 ]
}