{
 "metadata": {
  "language_info": {
   "codemirror_mode": {
    "name": "ipython",
    "version": 3
   },
   "file_extension": ".py",
   "mimetype": "text/x-python",
   "name": "python",
   "nbconvert_exporter": "python",
   "pygments_lexer": "ipython3",
   "version": "3.8.3"
  },
  "orig_nbformat": 2,
  "kernelspec": {
   "name": "python383jvsc74a57bd086e3c9670735cc20f0b3202909bbbac2d272676f4c08bf6ace7bb5a1fbcb8d07",
   "display_name": "Python 3.8.3 32-bit"
  }
 },
 "nbformat": 4,
 "nbformat_minor": 2,
 "cells": [
  {
   "cell_type": "code",
   "execution_count": 5,
   "metadata": {},
   "outputs": [
    {
     "output_type": "stream",
     "name": "stdout",
     "text": [
      "[]\n[5]\n[5, 20]\n[5, 15, 20]\n4\n-1\n"
     ]
    }
   ],
   "source": [
    "import random\n",
    "\n",
    "class Node:\n",
    "    def __init__(self, value, next=None, parent=None):\n",
    "        self.value = value\n",
    "        self.next = next\n",
    "        self.parent = parent\n",
    "\n",
    "class OrderList:\n",
    "    def __init__(self, value=float('-inf')):\n",
    "        self.head = Node(value)\n",
    "\n",
    "    def add(self, value):\n",
    "        curr = self.head\n",
    "        prev = None\n",
    "        \n",
    "        while curr is not None and curr.value < value:\n",
    "            prev = curr\n",
    "            curr = curr.next\n",
    "        \n",
    "        temp = Node(value)\n",
    "        if prev is None:\n",
    "            temp.next = self.head\n",
    "            self.head = temp\n",
    "        else:\n",
    "            temp.next = curr\n",
    "            prev.next = temp\n",
    "\n",
    "    def search(self, value):\n",
    "        c = 0\n",
    "        curr = self.head\n",
    "        while curr is not None and curr.value <= value:\n",
    "            c += 1\n",
    "            if curr.value == value:\n",
    "                return c\n",
    "            curr = curr.next\n",
    "        return -1\n",
    "\n",
    "    def show(self):\n",
    "        R = []\n",
    "        nd = self.head\n",
    "        while nd is not None:\n",
    "            if nd.value != float('-inf'):\n",
    "                R.append(nd.value)\n",
    "            nd = nd.next\n",
    "        print(R)\n",
    "\n",
    "class SkipList:\n",
    "    L = []\n",
    "    def __init__(self, value):\n",
    "        BaseList = OrderList()\n",
    "        self.L.append(BaseList)\n",
    "\n",
    "    def add(self, value):\n",
    "        N1 = L[0].add(value)\n",
    "        ...\n",
    "        return\n",
    "\n",
    "    def search(self, value):\n",
    "        return\n",
    "\n",
    "    def show(self):\n",
    "        return\n",
    "\n",
    "L = OrderList()\n",
    "L.show()\n",
    "L.add(5)\n",
    "L.show()\n",
    "L.add(20)\n",
    "L.show()\n",
    "L.add(15)\n",
    "L.show()\n",
    "print(L.search(20))\n",
    "print(L.search(21))"
   ]
  },
  {
   "cell_type": "code",
   "execution_count": null,
   "metadata": {},
   "outputs": [],
   "source": []
  }
 ]
}