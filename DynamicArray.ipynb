{
 "metadata": {
  "language_info": {
   "codemirror_mode": {
    "name": "ipython",
    "version": 3
   },
   "file_extension": ".py",
   "mimetype": "text/x-python",
   "name": "python",
   "nbconvert_exporter": "python",
   "pygments_lexer": "ipython3",
   "version": "3.9.5"
  },
  "orig_nbformat": 2,
  "kernelspec": {
   "name": "python395jvsc74a57bd063fd5069d213b44bf678585dea6b12cceca9941eaf7f819626cde1f2670de90d",
   "display_name": "Python 3.9.5 64-bit"
  }
 },
 "nbformat": 4,
 "nbformat_minor": 2,
 "cells": [
  {
   "cell_type": "code",
   "execution_count": 13,
   "metadata": {},
   "outputs": [],
   "source": [
    "import numpy as np\n",
    "import math\n",
    "\n",
    "class DynamicArray:\n",
    "    A = None\n",
    "    data_sz = 0\n",
    "    NN = 2\n",
    "    ACost = 0\n",
    "    \n",
    "    def __init__(self, array_size=1, scale_factor=2):\n",
    "        self.A = np.zeros(array_size)\n",
    "        self.data_sz = 0\n",
    "        self.NN = scale_factor\n",
    "\n",
    "    def phi(self, i):\n",
    "        return (self.NN*i - self.NN**np.ceil(np.log2(i)))\n",
    "\n",
    "    def amortizedCost(self):\n",
    "        i = self.data_sz\n",
    "        if(i == 1):\n",
    "            self.ACost += 3\n",
    "            return 3\n",
    "        cci = 1\n",
    "        if ((i-1) & (i-2) == 0 and (i-1) != 0):\n",
    "            cci = i\n",
    "        cci = cci + self.phi(i) - self.phi(i-1)\n",
    "        if (cci<0):\n",
    "            print('ERROR: potential function is to small, obtaining negative values for cci')\n",
    "        self.ACost += cci\n",
    "        return cci\n",
    "\n",
    "    def reshape(self, debug=False):\n",
    "        array_size = self.A.shape[0]\n",
    "        if debug:\n",
    "            print('reshaping from size ', array_size, 'into size ', self.NN*array_size)\n",
    "        B = np.zeros(self.NN*array_size)\n",
    "        B[:self.A.size] = self.A\n",
    "        self.A = B\n",
    "\n",
    "    def insert(self, value, debug=False):\n",
    "        if(debug):\n",
    "            print('-- Inserting value ', value)\n",
    "        if self.data_sz == self.A.shape[0]:\n",
    "            self.reshape(debug)\n",
    "        self.A[self.data_sz] = value\n",
    "        if debug: \n",
    "            self.show()\n",
    "        self.data_sz += 1\n",
    "        self.amortizedCost()\n",
    "\n",
    "    def show(self):\n",
    "        print('> Array:',self.A[0:self.data_sz].tolist())\n",
    "        print('> Amortized total cost is of order '+str(self.ACost)+' for n='+ str(self.data_sz))\n",
    "        print()"
   ]
  },
  {
   "cell_type": "code",
   "execution_count": 15,
   "metadata": {
    "tags": []
   },
   "outputs": [
    {
     "output_type": "stream",
     "name": "stdout",
     "text": [
      "ERROR: potential function is to small, obtaining negative values for cci\nERROR: potential function is to small, obtaining negative values for cci\nERROR: potential function is to small, obtaining negative values for cci\nERROR: potential function is to small, obtaining negative values for cci\nERROR: potential function is to small, obtaining negative values for cci\n> Array: [0.8151742641472047, 0.2779174077440798, 0.9781004765715421, 0.7058443092468331, 0.8337464521095067, 0.833411707865683, 0.9861745454538158, 0.5832308923190456, 0.9219875044121437, 0.8820276686972035, 0.8593071714221263, 0.6085950288813762, 0.26393631110618765, 0.7027713519013643, 0.804708119041259, 0.8630832606855584, 0.17608656427405311, 0.9907975869658849, 0.079973927239963, 0.790474081686035, 0.28811292486265405, 0.4851311074434791, 0.30461249192354445, 0.2782380959323457, 0.005508479706268665, 0.49709566470785305, 0.7912252342509236, 0.09400506446824874, 0.007324749202465397, 0.21901950289676098, 0.5134490108638479, 0.7321918645684811, 0.5888870265304988, 0.835114521799523, 0.09431893902666144, 0.14320525462786304, 0.26290488682639135, 0.8445500981777492, 0.5264585995505208, 0.9482858668980584, 0.4098363318513947, 0.558157707892709, 0.12541876675920316, 0.0028494111311153647, 0.2576128567235003, 0.3570135985873708, 0.5900910515048263, 0.4517995586369935, 0.5631938110874262, 0.7235697072941434, 0.8389673115232842, 0.5078314551538379, 0.3946172297265643, 0.8924788385620968, 0.7361308013192808, 0.22221533147107464, 0.5973401712972786, 0.8738764075764164, 0.2109775495951539, 0.8657333652718345, 0.20857517633484224, 0.72716031931469, 0.2273195536924344, 0.9810034709766844, 0.7199307392077633, 0.02898792186284549, 0.009808892824692661, 0.019930825821377507, 0.9616075469393259, 0.9323414968829608, 0.04187550449671429, 0.411402030938931, 0.9977297826740945, 0.5692131623251826, 0.32364258820381564, 0.9805016710740295, 0.8767944618327502, 0.4165334759743835, 0.8406247776656248, 0.41311127315162444, 0.33703494834613046, 0.20190118860840356, 0.8656519863353072, 0.6215891217004565, 0.01494871122539887, 0.7268511445561323, 0.9686172464253717, 0.003978318871158737, 0.7559379195891336, 0.6433102349031974, 0.7799071557468684, 0.9400553491227003, 0.5292352301728477, 0.4179627198794329, 0.8202567188082681, 0.37837213301306716, 0.31650764304264767, 0.32996580145255017, 0.3586127958770561, 0.5046173138492837]\n> Amortized total cost is of order -1660.0 for n=100\n\n"
     ]
    }
   ],
   "source": [
    "import random as rd\n",
    "\n",
    "da = DynamicArray(scale_factor=3)\n",
    "for i in range(100):\n",
    "    da.insert(rd.random(), False)\n",
    "da.show()"
   ]
  },
  {
   "cell_type": "code",
   "execution_count": null,
   "metadata": {},
   "outputs": [],
   "source": []
  }
 ]
}