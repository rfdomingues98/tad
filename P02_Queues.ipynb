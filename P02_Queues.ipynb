{
 "metadata": {
  "language_info": {
   "codemirror_mode": {
    "name": "ipython",
    "version": 3
   },
   "file_extension": ".py",
   "mimetype": "text/x-python",
   "name": "python",
   "nbconvert_exporter": "python",
   "pygments_lexer": "ipython3",
   "version": "3.8.3-final"
  },
  "orig_nbformat": 2,
  "kernelspec": {
   "name": "python383jvsc74a57bd086e3c9670735cc20f0b3202909bbbac2d272676f4c08bf6ace7bb5a1fbcb8d07",
   "display_name": "Python 3.8.3 32-bit"
  }
 },
 "nbformat": 4,
 "nbformat_minor": 2,
 "cells": [
  {
   "cell_type": "code",
   "execution_count": 2,
   "metadata": {},
   "outputs": [],
   "source": [
    "\n",
    "class Queue:\n",
    "    L = None\n",
    "    type = ''\n",
    "    unique = False\n",
    "\n",
    "    def __init__(self, type, unique=False):\n",
    "        self.L = [] \n",
    "        self.unique = unique  \n",
    "        self.type = type\n",
    "\n",
    "    def add(self, value):\n",
    "        if (self.unique and value in self.L):\n",
    "            print(':warn value {} already exists (not added)'.format(value))\n",
    "        else:\n",
    "            if (self.type=='fifo'):\n",
    "                self.L.append(value)\n",
    "            if (self.type in ['lifo','set']):\n",
    "                self.L.insert(0,value)\n",
    "\n",
    "    def get(self):\n",
    "        if (self.type != 'set'):\n",
    "            return(self.L.pop(0)) \n",
    "        else:\n",
    "            return(self.L)\n",
    "    \n",
    "    def exists(self, value):\n",
    "        return(value in self.L)\n",
    "\n",
    "    def clear(self):\n",
    "        self.L.clear()\n",
    "\n",
    "    def show(self):\n",
    "        print(self.L) \n",
    "    \n",
    "    def empty(self):\n",
    "        return len(self.L) == 0\n",
    "    \n",
    "    def size(self):\n",
    "        return len(self.L)\n",
    "\n",
    "class Stack(Queue):\n",
    "    def __init__(self, unique=False):\n",
    "        super().__init__('lifo', unique)\n",
    "\n",
    "    def top(self):\n",
    "        return self.L[0]\n",
    "              \n",
    "class Set(Queue):\n",
    "    def __init__(self, unique=False):\n",
    "        super().__init__('set', unique)"
   ]
  },
  {
   "cell_type": "code",
   "execution_count": 3,
   "metadata": {},
   "outputs": [
    {
     "output_type": "stream",
     "name": "stdout",
     "text": [
      "[1, 2, 2, 3]\n"
     ]
    }
   ],
   "source": [
    "q = Queue('fifo')\n",
    "q.add(1)\n",
    "q.add(2)\n",
    "q.add(2)\n",
    "q.add(3)\n",
    "q.show()"
   ]
  },
  {
   "source": [
    "EXERC 1: Solve the following problem: Validation of nested parenthesis, i.e. \"[{()}][]\" is valid but \"[{]]\" is not.\n",
    "\n",
    "EXERC 2: Implement a queue (called NQueue) using two stacks (Stack).\n",
    "\n",
    "EXERC 3*: Implement a solution to the Tower of Hanoi Problem:\n",
    "```\n",
    "The Tower of Hanoi, is a mathematical problem which consists of three rods and multiple disks. \n",
    "Initially, all the disks are placed on one rod, one over the other in ascending order of size \n",
    "similar to a cone-shaped tower.\n",
    "\n",
    "The objective of this problem is to move the stack of disks from the initial rod to another rod, \n",
    "following these rules:\n",
    "\n",
    "A disk cannot be placed on top of a smaller disk\n",
    "No disk can be placed on top of the smaller disk.\n",
    "The goal is to move all the disks from the leftmost rod to the rightmost rod. To move N disks \n",
    "from one rod to another, 2^𝑁−1 steps are required. So, to move 3 disks from starting the rod \n",
    "to the ending rod, a total of 7 steps are required.\n",
    "```"
   ],
   "cell_type": "markdown",
   "metadata": {}
  },
  {
   "cell_type": "code",
   "execution_count": 4,
   "metadata": {},
   "outputs": [],
   "source": [
    "def match_parenthesis(str):\n",
    "    stack = Stack()\n",
    "    match = {')': '(', ']': '[', '}': '{'}\n",
    "    str = [w for w in str if w in match.keys() or w in match.values()]\n",
    "    str = ''.join(str)\n",
    "    for i in str:\n",
    "        if i in match.values():\n",
    "            stack.add(i)\n",
    "        elif not stack.empty() and match[i] == stack.top():\n",
    "            stack.get()\n",
    "        else:\n",
    "            return False\n",
    "    return stack.empty()\n",
    "\n",
    "assert match_parenthesis(\"((()))\") == True\n",
    "assert match_parenthesis(\"()((\") == False\n",
    "assert match_parenthesis(\"[()]{}{[()()]()}\") == True\n",
    "assert match_parenthesis(\"[(])\") == False\n",
    "assert match_parenthesis(\"{123(456[.768])}\") == True\n",
    "assert match_parenthesis(\"(a{[]b({})}c)[]\") == True"
   ]
  },
  {
   "cell_type": "code",
   "execution_count": 6,
   "metadata": {},
   "outputs": [
    {
     "output_type": "stream",
     "name": "stdout",
     "text": [
      "1\n2\n3\nNone\n5\n"
     ]
    }
   ],
   "source": [
    "class NQueue:\n",
    "    def __init__(self):\n",
    "        self.stack_in = Stack()\n",
    "        self.stack_out = Stack()\n",
    "    \n",
    "    def enqueue(self,value):\n",
    "        self.stack_in.add(value)\n",
    "    \n",
    "    def dequeue(self):\n",
    "        if not self.stack_in.empty():\n",
    "            while self.stack_in.size() > 0:\n",
    "                self.stack_out.add(self.stack_in.get())\n",
    "            res = self.stack_out.get()\n",
    "            while self.stack_out.size() > 0:\n",
    "                self.stack_in.add(self.stack_out.get())\n",
    "            return res\n",
    "        \n",
    "q = NQueue()\n",
    "q.enqueue(1)\n",
    "q.enqueue(2)\n",
    "q.enqueue(3)\n",
    "a = q.dequeue()\n",
    "print(a)\n",
    "b = q.dequeue()\n",
    "print(b)\n",
    "c = q.dequeue()\n",
    "print(c)\n",
    "d = q.dequeue()\n",
    "print(d)\n",
    "q.enqueue(5)\n",
    "q.enqueue(6)\n",
    "print(q.dequeue())"
   ]
  },
  {
   "cell_type": "code",
   "execution_count": 26,
   "metadata": {},
   "outputs": [
    {
     "output_type": "stream",
     "name": "stdout",
     "text": [
      "Move disk 1: A -> B\nMove disk 2: A -> C\nMove disk 1: B -> C\nMove disk 3: A -> B\nMove disk 1: C -> A\nMove disk 2: C -> B\nMove disk 1: A -> B\n"
     ]
    }
   ],
   "source": [
    "def towersHanoi(n, src, dest, aux):\n",
    "    if n==1:\n",
    "        print(f\"Move disk 1: {src} -> {dest}\")\n",
    "        return\n",
    "    towersHanoi(n-1, src, aux, dest)\n",
    "    print(f\"Move disk {n}: {src} -> {dest}\")\n",
    "    towersHanoi(n-1, aux, dest, src)\n",
    "\n",
    "n = 3\n",
    "towersHanoi(n, 'A', 'B', 'C')"
   ]
  },
  {
   "cell_type": "code",
   "execution_count": null,
   "metadata": {},
   "outputs": [],
   "source": []
  }
 ]
}