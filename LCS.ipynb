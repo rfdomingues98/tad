{
 "metadata": {
  "language_info": {
   "codemirror_mode": {
    "name": "ipython",
    "version": 3
   },
   "file_extension": ".py",
   "mimetype": "text/x-python",
   "name": "python",
   "nbconvert_exporter": "python",
   "pygments_lexer": "ipython3",
   "version": "3.9.5"
  },
  "orig_nbformat": 2,
  "kernelspec": {
   "name": "python395jvsc74a57bd063fd5069d213b44bf678585dea6b12cceca9941eaf7f819626cde1f2670de90d",
   "display_name": "Python 3.9.5 64-bit"
  }
 },
 "nbformat": 4,
 "nbformat_minor": 2,
 "cells": [
  {
   "cell_type": "code",
   "execution_count": 229,
   "metadata": {},
   "outputs": [],
   "source": [
    "import itertools\n",
    "\n",
    "class LCS:\n",
    "    def __init__(self, L1=None, L2=None):\n",
    "        self.L1 = L1\n",
    "        self.L2 = L2\n",
    "    def setSeq(self, L, seq):\n",
    "        if L not in ['L1', 'L2']:\n",
    "            print('ERROR: Invalid list.')\n",
    "            return\n",
    "        elif L == 'L1':\n",
    "            self.L1 = seq\n",
    "        else:\n",
    "            self.L2 = seq\n",
    "        return True\n",
    "\n",
    "    def subSeq(self, STR):\n",
    "        combs = []\n",
    "        subSeq = []\n",
    "        for l in range(1, len(STR)+1):\n",
    "            combs.append(list(itertools.combinations(STR, l)))\n",
    "        for c in combs:\n",
    "            for t in c:\n",
    "                subSeq.append(''.join(t))\n",
    "        return subSeq[::-1]\n",
    "\n",
    "    def checkSeq(self): \n",
    "        found = False\n",
    "        seq1 = seq2 = ''\n",
    "        for i in self.subSeq(self.L1):\n",
    "            if i in \"\".join([n for n in self.L2 if n in self.L1]):\n",
    "                seq1 = i\n",
    "                break\n",
    "        for i in self.subSeq(self.L2):\n",
    "            if i in \"\".join([n for n in self.L1 if n in self.L2]):\n",
    "                seq2 = i\n",
    "                break\n",
    "        return max([seq1, seq2], key=len)"
   ]
  },
  {
   "cell_type": "code",
   "execution_count": 231,
   "metadata": {},
   "outputs": [],
   "source": [
    "lcs = LCS(\"ABCBDAB\", \"BDCABA\")"
   ]
  },
  {
   "cell_type": "code",
   "execution_count": 232,
   "metadata": {},
   "outputs": [
    {
     "output_type": "execute_result",
     "data": {
      "text/plain": [
       "'BDAB'"
      ]
     },
     "metadata": {},
     "execution_count": 232
    }
   ],
   "source": [
    "lcs.checkSeq()"
   ]
  },
  {
   "cell_type": "code",
   "execution_count": null,
   "metadata": {},
   "outputs": [],
   "source": []
  }
 ]
}