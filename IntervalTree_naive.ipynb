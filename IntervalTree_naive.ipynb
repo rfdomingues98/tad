{
 "metadata": {
  "language_info": {
   "codemirror_mode": {
    "name": "ipython",
    "version": 3
   },
   "file_extension": ".py",
   "mimetype": "text/x-python",
   "name": "python",
   "nbconvert_exporter": "python",
   "pygments_lexer": "ipython3",
   "version": "3.9.5"
  },
  "orig_nbformat": 2,
  "kernelspec": {
   "name": "python395jvsc74a57bd063fd5069d213b44bf678585dea6b12cceca9941eaf7f819626cde1f2670de90d",
   "display_name": "Python 3.9.5 64-bit"
  }
 },
 "nbformat": 4,
 "nbformat_minor": 2,
 "cells": [
  {
   "cell_type": "code",
   "execution_count": 34,
   "metadata": {},
   "outputs": [
    {
     "output_type": "stream",
     "name": "stdout",
     "text": [
      "[[4, 8], [5, 11], [15, 18], [17, 19], [22, 23]]\n>> [4, 8]\n>> [5, 11]\n"
     ]
    },
    {
     "output_type": "execute_result",
     "data": {
      "text/plain": [
       "[[4, 8], [5, 11]]"
      ]
     },
     "metadata": {},
     "execution_count": 34
    }
   ],
   "source": [
    "class IntervalTree:\n",
    "    def __init__(self):\n",
    "        self.L = []\n",
    "\n",
    "    def valid(self, low, high):\n",
    "        if(high < low):\n",
    "            print(\"ERROR: Incorrect parameters (max < min)\")\n",
    "            return False\n",
    "        return True\n",
    "\n",
    "    def add(self, low, high):\n",
    "        temp = []\n",
    "        if(self.valid(low, high)):\n",
    "            added = False\n",
    "            for i in self.L:\n",
    "                if not added and i[0] > low:\n",
    "                    temp.append([low, high])\n",
    "                    added = True\n",
    "                temp.append(i)\n",
    "            if not added:\n",
    "                temp.append([low, high])\n",
    "        self.L = temp\n",
    "    \n",
    "    def find(self, low, high):\n",
    "        intersect = []\n",
    "        for i in self.L:\n",
    "            if high < i[0]:\n",
    "                break\n",
    "            # print('>>', i)\n",
    "            if(i[1]>= low and i[0] <= high):\n",
    "                intersect.append(i)               \n",
    "        return intersect\n",
    "        \n",
    "    def show(self):\n",
    "        print(self.L)\n",
    "\n",
    "it = IntervalTree()\n",
    "it.add(5,11); it.add(4,8); it.add(17,19); it.add(15,18); it.add(22,23)\n",
    "it.show()\n",
    "it.find(7,10)"
   ]
  },
  {
   "cell_type": "code",
   "execution_count": null,
   "metadata": {},
   "outputs": [],
   "source": []
  }
 ]
}